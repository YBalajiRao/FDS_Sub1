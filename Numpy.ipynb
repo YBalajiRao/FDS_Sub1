{
 "cells": [
  {
   "cell_type": "code",
   "execution_count": 3,
   "id": "bf725ea1-afa0-4b8a-8faa-366e06bac05d",
   "metadata": {},
   "outputs": [],
   "source": [
    "#Numpu tutorial"
   ]
  },
  {
   "cell_type": "code",
   "execution_count": 15,
   "id": "3ca81fd9-c341-49a2-8668-23a459b4e896",
   "metadata": {},
   "outputs": [
    {
     "name": "stdout",
     "output_type": "stream",
     "text": [
      "[2, 4, 6, 8]\n"
     ]
    }
   ],
   "source": [
    "list1 = [1, 2, 3, 4]\n",
    "res=[]\n",
    "for x in list1:\n",
    "    res.append(x*2)\n",
    "print(res)"
   ]
  },
  {
   "cell_type": "code",
   "execution_count": 17,
   "id": "62e162c6-d8f1-4040-a8ae-5a5b022e3033",
   "metadata": {},
   "outputs": [
    {
     "name": "stdout",
     "output_type": "stream",
     "text": [
      "[2 4 6 8]\n"
     ]
    }
   ],
   "source": [
    "import numpy as np\n",
    "arr=np.array([1,2,3,4])\n",
    "print(arr*2)"
   ]
  },
  {
   "cell_type": "code",
   "execution_count": 19,
   "id": "b4eefc51-d3d9-4f6b-85ef-f897a94f7e50",
   "metadata": {},
   "outputs": [
    {
     "name": "stdout",
     "output_type": "stream",
     "text": [
      "1.26.4\n"
     ]
    }
   ],
   "source": [
    "import numpy as np\n",
    "print(np.__version__)"
   ]
  },
  {
   "cell_type": "code",
   "execution_count": 21,
   "id": "1912faa3-5527-4e37-ac92-bca14a57f9c3",
   "metadata": {},
   "outputs": [
    {
     "name": "stdout",
     "output_type": "stream",
     "text": [
      "[1 2 3 4]\n",
      "<class 'numpy.ndarray'>\n"
     ]
    }
   ],
   "source": [
    "import numpy as np\n",
    "a=np.array([1,2,3,4])\n",
    "print(a)\n",
    "print(type(a))"
   ]
  },
  {
   "cell_type": "code",
   "execution_count": 23,
   "id": "c93e5a72-0369-4e7c-8904-1e7431dd0eac",
   "metadata": {},
   "outputs": [
    {
     "name": "stdout",
     "output_type": "stream",
     "text": [
      "1\n"
     ]
    }
   ],
   "source": [
    "print(a.ndim)"
   ]
  },
  {
   "cell_type": "code",
   "execution_count": 27,
   "id": "76acd066-3ff8-437b-a6d8-318bc735b1de",
   "metadata": {},
   "outputs": [
    {
     "name": "stdout",
     "output_type": "stream",
     "text": [
      "[[1 2 3]\n",
      " [4 5 6]]\n",
      "2\n",
      "(2, 3)\n"
     ]
    }
   ],
   "source": [
    "b=np.array([[1,2,3],[4,5,6]])\n",
    "print(b)\n",
    "print(b.ndim)\n",
    "print(b.shape)"
   ]
  },
  {
   "cell_type": "code",
   "execution_count": 11,
   "id": "6ce47494-b97d-45e3-ad15-f3e7d693d426",
   "metadata": {},
   "outputs": [
    {
     "name": "stdout",
     "output_type": "stream",
     "text": [
      "3\n"
     ]
    }
   ],
   "source": [
    "c=np.array([\n",
    "    [[1,2],[3,4]],\n",
    "    [[5,6],[7,8]]\n",
    "])\n",
    "print(c.ndim)"
   ]
  },
  {
   "cell_type": "code",
   "execution_count": 19,
   "id": "e3145048-9b22-435c-9643-96eaa2bc3dea",
   "metadata": {},
   "outputs": [
    {
     "name": "stdout",
     "output_type": "stream",
     "text": [
      "[ 23   4   5 566]\n",
      "1\n"
     ]
    }
   ],
   "source": [
    "import numpy as np\n",
    "arr1=np.array([23,4,5,566])\n",
    "print(arr1)\n",
    "print(arr1.ndim)"
   ]
  },
  {
   "cell_type": "code",
   "execution_count": 31,
   "id": "7dc24699-2895-471e-8122-b53631ee0676",
   "metadata": {},
   "outputs": [
    {
     "name": "stdout",
     "output_type": "stream",
     "text": [
      "[[ 23   4   5 566]\n",
      " [235  57 456  45]]\n",
      "2\n"
     ]
    }
   ],
   "source": [
    "import numpy as np\n",
    "arr2=np.array([[23,4,5,566],[235,57,456,45]])\n",
    "print(arr2)\n",
    "print(arr2.ndim)"
   ]
  },
  {
   "cell_type": "code",
   "execution_count": 32,
   "id": "2a0408c4-4763-4373-a11a-fd47576d68c3",
   "metadata": {},
   "outputs": [
    {
     "name": "stdout",
     "output_type": "stream",
     "text": [
      "[[[ 23   4   5 566]\n",
      "  [235  57 456  45]]]\n",
      "3\n"
     ]
    }
   ],
   "source": [
    "import numpy as np\n",
    "arr3=np.array([[[23,4,5,566],[235,57,456,45]]])\n",
    "print(arr3)\n",
    "print(arr3.ndim)"
   ]
  },
  {
   "cell_type": "code",
   "execution_count": 39,
   "id": "24edec99-1ad3-4629-a388-65923fd89766",
   "metadata": {},
   "outputs": [
    {
     "name": "stdout",
     "output_type": "stream",
     "text": [
      "8\n"
     ]
    }
   ],
   "source": [
    "print(arr3.size) #total elements count"
   ]
  },
  {
   "cell_type": "code",
   "execution_count": 41,
   "id": "87aadb20-6d1f-4499-843f-94af9361e508",
   "metadata": {},
   "outputs": [
    {
     "name": "stdout",
     "output_type": "stream",
     "text": [
      "int32\n"
     ]
    }
   ],
   "source": [
    "print(arr3.dtype) # Data type of elements"
   ]
  },
  {
   "cell_type": "code",
   "execution_count": 43,
   "id": "1c510129-98f7-4907-aa89-12a2c1d07487",
   "metadata": {},
   "outputs": [
    {
     "name": "stdout",
     "output_type": "stream",
     "text": [
      "(1, 2, 4)\n"
     ]
    }
   ],
   "source": [
    "print(arr3.shape)  # Shape (rows, columns, etc.)"
   ]
  },
  {
   "cell_type": "code",
   "execution_count": 59,
   "id": "fbc920e7-62de-41ec-8e26-abb9d13844f6",
   "metadata": {},
   "outputs": [
    {
     "name": "stdout",
     "output_type": "stream",
     "text": [
      "10\n"
     ]
    }
   ],
   "source": [
    "import numpy as np\n",
    "\n",
    "arr = np.array([10, 20, 30, 40])\n",
    "print(arr[0])"
   ]
  },
  {
   "cell_type": "raw",
   "id": "b2c1f336-5149-4762-9ce7-941c358af9c3",
   "metadata": {},
   "source": []
  },
  {
   "cell_type": "code",
   "execution_count": 61,
   "id": "47edfc8a-63f6-459a-8b56-19043135f48a",
   "metadata": {},
   "outputs": [
    {
     "name": "stdout",
     "output_type": "stream",
     "text": [
      "30\n"
     ]
    }
   ],
   "source": [
    "print(arr[2])"
   ]
  },
  {
   "cell_type": "code",
   "execution_count": 63,
   "id": "b51703da-77bd-4a13-8943-463b5b109a8f",
   "metadata": {},
   "outputs": [
    {
     "name": "stdout",
     "output_type": "stream",
     "text": [
      "40\n"
     ]
    }
   ],
   "source": [
    "print(arr[-1])"
   ]
  },
  {
   "cell_type": "code",
   "execution_count": 71,
   "id": "841d9c95-5b68-4e5e-bdf5-bf17fd6d4f42",
   "metadata": {},
   "outputs": [
    {
     "name": "stdout",
     "output_type": "stream",
     "text": [
      "4\n"
     ]
    }
   ],
   "source": [
    "arr2 = np.array([[1, 2, 3],\n",
    "                 [4, 5, 6]])\n",
    "print(arr2[1,0])"
   ]
  },
  {
   "cell_type": "code",
   "execution_count": 83,
   "id": "5ec0cca3-8ae3-4eea-9534-c5de2978af9f",
   "metadata": {},
   "outputs": [
    {
     "name": "stdout",
     "output_type": "stream",
     "text": [
      "3\n",
      "(1, 4, 3)\n"
     ]
    }
   ],
   "source": [
    "import numpy as np\n",
    "arr4=np.array([[[43,6,78],[44,67,74],\n",
    "               [43,6,78],[44,67,74]\n",
    "               ]])\n",
    "print(arr4.ndim)\n",
    "print(arr4.shape)"
   ]
  },
  {
   "cell_type": "code",
   "execution_count": 87,
   "id": "3924ec09-f4bd-45ca-bd73-98b48948a463",
   "metadata": {},
   "outputs": [
    {
     "name": "stdout",
     "output_type": "stream",
     "text": [
      "34\n"
     ]
    }
   ],
   "source": [
    "import numpy as np\n",
    "arr_1=np.array([34,67,34,32])\n",
    "print(arr_1[2])"
   ]
  },
  {
   "cell_type": "code",
   "execution_count": 89,
   "id": "d8fb73d5-f376-49c0-b82c-c3e7e981642f",
   "metadata": {},
   "outputs": [
    {
     "name": "stdout",
     "output_type": "stream",
     "text": [
      "[ 34  67 108  32]\n"
     ]
    }
   ],
   "source": [
    "arr_1[2]=108\n",
    "print(arr_1)"
   ]
  },
  {
   "cell_type": "code",
   "execution_count": 93,
   "id": "8a152bce-5743-4510-8eba-a5536c3bf6b5",
   "metadata": {},
   "outputs": [
    {
     "name": "stdout",
     "output_type": "stream",
     "text": [
      "[ 32 108  67  34]\n"
     ]
    }
   ],
   "source": [
    "print(arr_1[::-1])"
   ]
  },
  {
   "cell_type": "code",
   "execution_count": null,
   "id": "37243af3-32cd-4238-8b26-6ce2e3d4b62c",
   "metadata": {},
   "outputs": [],
   "source": [
    "# reshape()"
   ]
  },
  {
   "cell_type": "code",
   "execution_count": 97,
   "id": "3fd22f4f-68a3-4c6c-9390-8b865694cae7",
   "metadata": {},
   "outputs": [
    {
     "name": "stdout",
     "output_type": "stream",
     "text": [
      "Origianl shape: (4,)\n"
     ]
    }
   ],
   "source": [
    "import numpy as np\n",
    "arr=np.array([45,567,45,3])\n",
    "print(\"Origianl shape:\",arr.shape) #there are 4 elements so we get (4,)"
   ]
  },
  {
   "cell_type": "code",
   "execution_count": 105,
   "id": "aa187600-1baa-4798-a28e-ddd8226f6b24",
   "metadata": {},
   "outputs": [
    {
     "name": "stdout",
     "output_type": "stream",
     "text": [
      "Origianl shape: (2, 4)\n"
     ]
    }
   ],
   "source": [
    "import numpy as np\n",
    "arr2=np.array([[45,567,45,3],\n",
    "               [46,23,3,23]])\n",
    "print(\"Origianl shape:\",arr2.shape) #here we will get output as (2,4) because there are 2 rows, and 4 total columns"
   ]
  },
  {
   "cell_type": "code",
   "execution_count": 111,
   "id": "a66b3275-d94a-46ef-9e68-d7fa879fc662",
   "metadata": {},
   "outputs": [
    {
     "name": "stdout",
     "output_type": "stream",
     "text": [
      "[[ 34   4  78]\n",
      " [  7 546  32]]\n",
      "2\n"
     ]
    }
   ],
   "source": [
    "import numpy as np\n",
    "arr=np.array([34,4,78,7,546,32])\n",
    "new_arr=arr.reshape(2,3)\n",
    "print(new_arr)\n",
    "print(new_arr.ndim)"
   ]
  },
  {
   "cell_type": "code",
   "execution_count": 114,
   "id": "b61378d2-cfc9-4385-a9a1-cabb46127102",
   "metadata": {},
   "outputs": [],
   "source": [
    "#activity"
   ]
  },
  {
   "cell_type": "code",
   "execution_count": 117,
   "id": "6d7a66f4-d497-4315-9a64-49c4216ded9d",
   "metadata": {},
   "outputs": [],
   "source": [
    "import numpy as np\n",
    "arr2d = np.array([\n",
    "    [1, 2, 3],\n",
    "    [4, 5, 6],\n",
    "    [7, 8, 9]\n",
    "])\n"
   ]
  },
  {
   "cell_type": "code",
   "execution_count": null,
   "id": "2b5b5696-bc45-44ea-a723-7cfbe3bdf296",
   "metadata": {},
   "outputs": [],
   "source": [
    "# Question 1:\n",
    "# Display the last column →\n",
    "# We need all rows (:) but only last column (-1).\n",
    "# If you want it as a 2D column, keep the second index as -1: or [-1:]."
   ]
  },
  {
   "cell_type": "code",
   "execution_count": 127,
   "id": "2cf1660c-4c96-4b93-80bf-8390a19db721",
   "metadata": {},
   "outputs": [
    {
     "name": "stdout",
     "output_type": "stream",
     "text": [
      "[[3]\n",
      " [6]\n",
      " [9]]\n"
     ]
    }
   ],
   "source": [
    "print(arr2d[:,-1:])"
   ]
  },
  {
   "cell_type": "code",
   "execution_count": 133,
   "id": "0c8a7bea-1d63-47bd-a4f5-93ef27f7541b",
   "metadata": {},
   "outputs": [
    {
     "name": "stdout",
     "output_type": "stream",
     "text": [
      "[5 6]\n"
     ]
    }
   ],
   "source": [
    "import numpy as np\n",
    "\n",
    "arr2d = np.array([[1, 2, 3],\n",
    "                  [4, 5, 6],\n",
    "                  [7, 8, 9]])\n",
    "print(arr2d[1,1:])\n"
   ]
  },
  {
   "cell_type": "code",
   "execution_count": 135,
   "id": "71fcf037-a8e8-4891-81bd-e6034ff79d08",
   "metadata": {},
   "outputs": [],
   "source": [
    "arr2d = np.array([[10, 20, 30, 40],\n",
    "                  [50, 60, 70, 80],\n",
    "                  [90, 100, 110, 120]])\n"
   ]
  },
  {
   "cell_type": "code",
   "execution_count": 137,
   "id": "986480e8-c624-41ea-a7af-a83fafc8f818",
   "metadata": {},
   "outputs": [
    {
     "name": "stdout",
     "output_type": "stream",
     "text": [
      "[20 30]\n"
     ]
    }
   ],
   "source": [
    "print(arr2d[0,1:3])"
   ]
  },
  {
   "cell_type": "code",
   "execution_count": 139,
   "id": "cb469f36-bd03-46ec-b286-9fdb5f407297",
   "metadata": {},
   "outputs": [],
   "source": [
    "# Notes for exam"
   ]
  },
  {
   "cell_type": "code",
   "execution_count": null,
   "id": "d476ffad-bf93-4143-aed6-ea3dcb0ff531",
   "metadata": {},
   "outputs": [],
   "source": [
    "# 📌 NumPy Exam Notes\n",
    "# 1. What is NumPy?\n",
    "# NumPy = Numerical Python.\n",
    "\n",
    "# Used for fast numerical calculations in Python.\n",
    "\n",
    "# Works with n-dimensional arrays."
   ]
  },
  {
   "cell_type": "code",
   "execution_count": 147,
   "id": "eaf57af1-e5e8-48a7-a9c9-ac75d1878099",
   "metadata": {},
   "outputs": [],
   "source": [
    "# # 2. Creating Arrays\n",
    "# import numpy as np\n",
    "\n",
    "# # From Python list\n",
    "# arr = np.array([1, 2, 3])         # 1D\n",
    "# arr2 = np.array([[1, 2], [3, 4]]) # 2D\n",
    "\n",
    "# # Predefined functions\n",
    "# np.zeros((2,3))   # 2x3 array of 0s\n",
    "# np.ones((3,3))    # 3x3 array of 1s\n",
    "# np.full((2,2), 5) # 2x2 filled with 5\n",
    "# np.eye(3)         # Identity matrix\n",
    "# np.arange(1, 10, 2) # 1 to 9 step 2\n",
    "# np.linspace(0, 1, 5) # 5 equally spaced numbers from 0 to 1\n"
   ]
  },
  {
   "cell_type": "code",
   "execution_count": 149,
   "id": "20e86543-beee-4c61-9339-32ab6185e0e4",
   "metadata": {},
   "outputs": [],
   "source": [
    "# # 3. Array Attributes\n",
    "# arr.shape   # Dimensions (rows, cols)\n",
    "# arr.ndim    # Number of dimensions\n",
    "# arr.size    # Total elements\n",
    "# arr.dtype   # Data type\n"
   ]
  },
  {
   "cell_type": "code",
   "execution_count": null,
   "id": "b6713c6a-d688-4f4b-b149-6d213c431561",
   "metadata": {},
   "outputs": [],
   "source": [
    "# 4. Indexing & Slicing\n",
    "# arr = np.array([[1,2,3],[4,5,6],[7,8,9]])\n",
    "\n",
    "# arr[0,0]       # 1 (1st row, 1st col)\n",
    "# arr[1]         # [4,5,6] (2nd row)\n",
    "# arr[:, 1]      # [2,5,8] (2nd column)\n",
    "# arr[:, -1]     # Last column as 1D\n",
    "# arr[:, -1:]    # Last column as 2D\n",
    "# arr[1, 1:3]    # [5,6] (last 2 of middle row)\n"
   ]
  },
  {
   "cell_type": "code",
   "execution_count": 151,
   "id": "790b44bf-9ff2-45f4-b891-163fecf2f08b",
   "metadata": {},
   "outputs": [],
   "source": [
    "# 5. Reshaping\n",
    "# a = np.array([1,2,3,4,5,6])\n",
    "# a.reshape(2,3)  # Change shape\n",
    "# a.flatten()     # Convert to 1D\n"
   ]
  },
  {
   "cell_type": "code",
   "execution_count": 157,
   "id": "018e84b0-96b3-44ee-a7a7-5486992a81f4",
   "metadata": {},
   "outputs": [
    {
     "data": {
      "text/plain": [
       "1"
      ]
     },
     "execution_count": 157,
     "metadata": {},
     "output_type": "execute_result"
    }
   ],
   "source": [
    "# # 6. Mathematical Operations\n",
    "# a = np.array([1,2,3])\n",
    "# b = np.array([4,5,6])\n",
    "# a+b\n",
    "# a-b\n",
    "# a*b\n",
    "# a/b\n",
    "# np.sqrt(a)\n",
    "# np.sum(a)\n",
    "# np.mean(a)\n",
    "# np.max(a)\n",
    "# np.min(a)"
   ]
  },
  {
   "cell_type": "code",
   "execution_count": null,
   "id": "20296065-5665-4d0c-bbc1-c1948a61838c",
   "metadata": {},
   "outputs": [],
   "source": [
    "# Copy vs View\n",
    "# View → changes affect original array.\n",
    "\n",
    "# Copy → changes don’t affect original array.\n",
    "# x = np.array([1,2,3])\n",
    "# y = x.view()\n",
    "# z = x.copy()\n"
   ]
  },
  {
   "cell_type": "code",
   "execution_count": null,
   "id": "7ea76f61-bdfd-498d-a9a0-68d8afc3a72a",
   "metadata": {},
   "outputs": [],
   "source": []
  },
  {
   "cell_type": "code",
   "execution_count": null,
   "id": "01474dc9-b568-4ad7-87af-0acfd63c8e08",
   "metadata": {},
   "outputs": [],
   "source": []
  },
  {
   "cell_type": "code",
   "execution_count": null,
   "id": "2d40500d-12be-42aa-844c-ee8892efa36f",
   "metadata": {},
   "outputs": [],
   "source": []
  },
  {
   "cell_type": "code",
   "execution_count": null,
   "id": "a8c59111-82b7-4816-a5eb-813a52db6a89",
   "metadata": {},
   "outputs": [],
   "source": []
  },
  {
   "cell_type": "code",
   "execution_count": null,
   "id": "bb2943f9-d8af-475d-9bf1-5c017e5ef545",
   "metadata": {},
   "outputs": [],
   "source": []
  },
  {
   "cell_type": "code",
   "execution_count": null,
   "id": "9bba4325-1b7d-47c0-9553-3cde59b4d9b1",
   "metadata": {},
   "outputs": [],
   "source": []
  },
  {
   "cell_type": "code",
   "execution_count": null,
   "id": "ee4f6279-9d26-47af-aaad-2e8e5c33b865",
   "metadata": {},
   "outputs": [],
   "source": []
  },
  {
   "cell_type": "code",
   "execution_count": null,
   "id": "28f206d7-f95e-4e25-80ae-b5489d8a9d53",
   "metadata": {},
   "outputs": [],
   "source": []
  },
  {
   "cell_type": "code",
   "execution_count": null,
   "id": "e2ed6b87-b840-47b0-9d96-d4cbe5b6d31a",
   "metadata": {},
   "outputs": [],
   "source": []
  },
  {
   "cell_type": "code",
   "execution_count": null,
   "id": "b555b7de-ebb1-478e-b5e4-9fc0bbb9f0b1",
   "metadata": {},
   "outputs": [],
   "source": []
  },
  {
   "cell_type": "code",
   "execution_count": null,
   "id": "66f10561-8624-4a72-9905-6e8e748f034d",
   "metadata": {},
   "outputs": [],
   "source": []
  },
  {
   "cell_type": "code",
   "execution_count": null,
   "id": "061faaf1-e689-4393-8d1c-dc8b4a1f2bb6",
   "metadata": {},
   "outputs": [],
   "source": []
  },
  {
   "cell_type": "code",
   "execution_count": null,
   "id": "a49af7f9-1629-4894-ace8-da68d8a9b462",
   "metadata": {},
   "outputs": [],
   "source": []
  },
  {
   "cell_type": "code",
   "execution_count": null,
   "id": "8860554a-cf1f-40d9-b5e4-9c694e7231f2",
   "metadata": {},
   "outputs": [],
   "source": []
  },
  {
   "cell_type": "code",
   "execution_count": null,
   "id": "8053d8ab-a2ab-4160-9e3a-dd9f89eb5de2",
   "metadata": {},
   "outputs": [],
   "source": []
  },
  {
   "cell_type": "code",
   "execution_count": null,
   "id": "40d9d9a1-da48-4f8c-8316-996b28f3eb66",
   "metadata": {},
   "outputs": [],
   "source": []
  },
  {
   "cell_type": "code",
   "execution_count": null,
   "id": "dc0932d4-6b54-4b20-9267-ee288e7d497a",
   "metadata": {},
   "outputs": [],
   "source": []
  },
  {
   "cell_type": "code",
   "execution_count": null,
   "id": "ddb691a3-1cfd-46ba-b88b-4aa0b7436bd9",
   "metadata": {},
   "outputs": [],
   "source": []
  },
  {
   "cell_type": "code",
   "execution_count": null,
   "id": "4a581518-6770-4844-8ce6-2d97ce457fab",
   "metadata": {},
   "outputs": [],
   "source": []
  },
  {
   "cell_type": "code",
   "execution_count": null,
   "id": "ab3557ba-5dfe-4031-968f-5234062bb35b",
   "metadata": {},
   "outputs": [],
   "source": []
  },
  {
   "cell_type": "code",
   "execution_count": null,
   "id": "035044b2-ab3c-4466-b6ad-11d5b71b80be",
   "metadata": {},
   "outputs": [],
   "source": []
  },
  {
   "cell_type": "code",
   "execution_count": null,
   "id": "3b22c428-cc33-49ed-8ca8-367ac5071545",
   "metadata": {},
   "outputs": [],
   "source": []
  },
  {
   "cell_type": "code",
   "execution_count": null,
   "id": "10420fe7-5081-433a-82ce-84cc0e749060",
   "metadata": {},
   "outputs": [],
   "source": []
  },
  {
   "cell_type": "code",
   "execution_count": null,
   "id": "5ff622be-2e82-4dd4-b9cb-de25db56ca7c",
   "metadata": {},
   "outputs": [],
   "source": []
  },
  {
   "cell_type": "code",
   "execution_count": null,
   "id": "8f7a3e3d-7f2f-4422-9517-355ed37382b6",
   "metadata": {},
   "outputs": [],
   "source": []
  },
  {
   "cell_type": "code",
   "execution_count": null,
   "id": "1b3baa6c-399e-4f5c-87c5-5378f25efbe3",
   "metadata": {},
   "outputs": [],
   "source": []
  },
  {
   "cell_type": "code",
   "execution_count": null,
   "id": "e37a1d55-82d0-4c57-9bb5-fb8cd8ee6dfe",
   "metadata": {},
   "outputs": [],
   "source": []
  },
  {
   "cell_type": "code",
   "execution_count": null,
   "id": "dba42ab1-0da6-4896-a10e-cf6898b621db",
   "metadata": {},
   "outputs": [],
   "source": []
  },
  {
   "cell_type": "code",
   "execution_count": null,
   "id": "6c079c1d-c14c-4927-b2a0-aaf224bdd95a",
   "metadata": {},
   "outputs": [],
   "source": []
  },
  {
   "cell_type": "code",
   "execution_count": null,
   "id": "a6095822-fdf7-4bf8-b227-3d11d28e3573",
   "metadata": {},
   "outputs": [],
   "source": []
  },
  {
   "cell_type": "code",
   "execution_count": null,
   "id": "c5b40865-c0be-499c-9bcf-460fc992e629",
   "metadata": {},
   "outputs": [],
   "source": []
  },
  {
   "cell_type": "code",
   "execution_count": null,
   "id": "b461aef7-309b-4137-b3e2-01c5c2d8826a",
   "metadata": {},
   "outputs": [],
   "source": []
  },
  {
   "cell_type": "code",
   "execution_count": null,
   "id": "47edbbcc-1c57-4e9f-ade2-1de3e234dd12",
   "metadata": {},
   "outputs": [],
   "source": []
  },
  {
   "cell_type": "code",
   "execution_count": null,
   "id": "0a68a48d-c393-4c2b-ada4-80c534b5d053",
   "metadata": {},
   "outputs": [],
   "source": []
  },
  {
   "cell_type": "code",
   "execution_count": null,
   "id": "a90355c0-8ee9-4b5c-8120-594cdae46618",
   "metadata": {},
   "outputs": [],
   "source": []
  },
  {
   "cell_type": "code",
   "execution_count": null,
   "id": "73269110-a738-4e59-85c9-11531155052e",
   "metadata": {},
   "outputs": [],
   "source": []
  },
  {
   "cell_type": "code",
   "execution_count": null,
   "id": "31ac528e-418a-4a46-9a05-ee2c7749bb48",
   "metadata": {},
   "outputs": [],
   "source": []
  }
 ],
 "metadata": {
  "kernelspec": {
   "display_name": "Python 3 (ipykernel)",
   "language": "python",
   "name": "python3"
  },
  "language_info": {
   "codemirror_mode": {
    "name": "ipython",
    "version": 3
   },
   "file_extension": ".py",
   "mimetype": "text/x-python",
   "name": "python",
   "nbconvert_exporter": "python",
   "pygments_lexer": "ipython3",
   "version": "3.12.4"
  }
 },
 "nbformat": 4,
 "nbformat_minor": 5
}
